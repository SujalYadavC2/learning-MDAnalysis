{
 "cells": [
  {
   "cell_type": "markdown",
   "id": "5dbcb452",
   "metadata": {},
   "source": [
    "# The General object structure of MDAanlysis\n",
    "\n",
    "There are two funcamental classes of MDAnalysis: \n",
    "- `Universe`\n",
    "- `AtomGroup`\n",
    "\n",
    "A particle is represented as an `Atom` object and multiple particle are grouped together in `AtomGroup` class.\n",
    "\n",
    "First we create a `Universe` data structure. It stores all the atoms of our system in `AtomGroup` class."
   ]
  },
  {
   "cell_type": "code",
   "execution_count": 1,
   "id": "2c9e2aab",
   "metadata": {},
   "outputs": [],
   "source": [
    "import MDAnalysis as mda\n",
    "from MDAnalysis.tests.datafiles import PSF, DCD, GRO, XTC\n",
    "import  matplotlib.pyplot as plt"
   ]
  },
  {
   "cell_type": "markdown",
   "id": "9c822943",
   "metadata": {},
   "source": [
    "we create our universe using topology file, we can also add trejectory file in second argument but it is optional."
   ]
  },
  {
   "cell_type": "code",
   "execution_count": 10,
   "id": "f1b24da5",
   "metadata": {},
   "outputs": [
    {
     "name": "stdout",
     "output_type": "stream",
     "text": [
      "<Universe with 3341 atoms>\n"
     ]
    }
   ],
   "source": [
    "psf_uni = mda.Universe(PSF)\n",
    "print(psf_uni)"
   ]
  },
  {
   "cell_type": "markdown",
   "id": "8b4e100d",
   "metadata": {},
   "source": [
    "A **topology file** is always required for loading data into `Universe`. MDAnalysis accepts PSF, PDB, CRD, and GRO formats."
   ]
  },
  {
   "cell_type": "code",
   "execution_count": 11,
   "id": "ec3dee14",
   "metadata": {},
   "outputs": [
    {
     "ename": "AttributeError",
     "evalue": "No trajectory loaded into Universe",
     "output_type": "error",
     "traceback": [
      "\u001b[31m---------------------------------------------------------------------------\u001b[39m",
      "\u001b[31mAttributeError\u001b[39m                            Traceback (most recent call last)",
      "\u001b[36mCell\u001b[39m\u001b[36m \u001b[39m\u001b[32mIn[11]\u001b[39m\u001b[32m, line 1\u001b[39m\n\u001b[32m----> \u001b[39m\u001b[32m1\u001b[39m \u001b[43mpsf_uni\u001b[49m\u001b[43m.\u001b[49m\u001b[43mtrajectory\u001b[49m \n",
      "\u001b[36mFile \u001b[39m\u001b[32m~/anaconda3/envs/MDAnalysis/lib/python3.13/site-packages/MDAnalysis/core/universe.py:869\u001b[39m, in \u001b[36mUniverse.trajectory\u001b[39m\u001b[34m(self)\u001b[39m\n\u001b[32m    867\u001b[39m     \u001b[38;5;28;01mreturn\u001b[39;00m \u001b[38;5;28mself\u001b[39m._trajectory\n\u001b[32m    868\u001b[39m \u001b[38;5;28;01melse\u001b[39;00m:\n\u001b[32m--> \u001b[39m\u001b[32m869\u001b[39m     \u001b[38;5;28;01mraise\u001b[39;00m \u001b[38;5;167;01mAttributeError\u001b[39;00m(\u001b[33m\"\u001b[39m\u001b[33mNo trajectory loaded into Universe\u001b[39m\u001b[33m\"\u001b[39m)\n",
      "\u001b[31mAttributeError\u001b[39m: No trajectory loaded into Universe"
     ]
    }
   ],
   "source": [
    "psf_uni.trajectory "
   ]
  },
  {
   "cell_type": "markdown",
   "id": "c0df3ddf",
   "metadata": {},
   "source": [
    "An error came when we tried to look trajectory info because we did not load any trajectory file and psf file does not contain coordinate information.\n",
    "\n",
    "If a file does contain coordinate information then we will have a trajectory of 1 frame."
   ]
  },
  {
   "cell_type": "code",
   "execution_count": 12,
   "id": "5e0db1cc",
   "metadata": {},
   "outputs": [
    {
     "name": "stdout",
     "output_type": "stream",
     "text": [
      "<Universe with 47681 atoms>\n"
     ]
    }
   ],
   "source": [
    "# Let's use GRO file\n",
    "\n",
    "gro_uni = mda.Universe(GRO)\n",
    "print(gro_uni)"
   ]
  },
  {
   "cell_type": "code",
   "execution_count": 16,
   "id": "acc99809",
   "metadata": {},
   "outputs": [
    {
     "data": {
      "text/plain": [
       "<GROReader /home/sujaly/anaconda3/envs/MDAnalysis/lib/python3.13/site-packages/MDAnalysisTests/data/adk_oplsaa.gro with 1 frames of 47681 atoms>"
      ]
     },
     "execution_count": 16,
     "metadata": {},
     "output_type": "execute_result"
    }
   ],
   "source": [
    "gro_uni.trajectory"
   ]
  },
  {
   "cell_type": "code",
   "execution_count": 17,
   "id": "591f3f90",
   "metadata": {},
   "outputs": [
    {
     "data": {
      "text/plain": [
       "MDAnalysis.coordinates.GRO.GROReader"
      ]
     },
     "execution_count": 17,
     "metadata": {},
     "output_type": "execute_result"
    }
   ],
   "source": [
    "type(gro_uni.trajectory)"
   ]
  },
  {
   "cell_type": "code",
   "execution_count": 18,
   "id": "0878cc46",
   "metadata": {},
   "outputs": [
    {
     "data": {
      "text/plain": [
       "1"
      ]
     },
     "execution_count": 18,
     "metadata": {},
     "output_type": "execute_result"
    }
   ],
   "source": [
    "len(gro_uni.trajectory)"
   ]
  },
  {
   "cell_type": "code",
   "execution_count": 19,
   "id": "8584ab51",
   "metadata": {},
   "outputs": [
    {
     "name": "stdout",
     "output_type": "stream",
     "text": [
      "<Universe with 3341 atoms>\n",
      "98\n"
     ]
    }
   ],
   "source": [
    "# universe with trajectory\n",
    "\n",
    "uni_traj = mda.Universe(PSF, DCD)\n",
    "print(uni_traj)\n",
    "print(len(uni_traj.trajectory))"
   ]
  },
  {
   "cell_type": "markdown",
   "id": "ff4ec9d4",
   "metadata": {},
   "source": [
    "# Working with groups of atoms"
   ]
  },
  {
   "cell_type": "markdown",
   "id": "543e0102",
   "metadata": {},
   "source": [
    "We have three classes to work with:\n",
    "- `AtomGroup`: Can be access through `.atoms` attribute of `Universe`\n",
    "- `ResidueGroup`: Can be access through `.residues` attribute of `Universe`\n",
    "- `SegmentGroup`: Can be access through `.segments` attribute po `Universe`"
   ]
  },
  {
   "cell_type": "code",
   "execution_count": 20,
   "id": "3af34739",
   "metadata": {},
   "outputs": [
    {
     "data": {
      "text/plain": [
       "<AtomGroup with 3341 atoms>"
      ]
     },
     "execution_count": 20,
     "metadata": {},
     "output_type": "execute_result"
    }
   ],
   "source": [
    "uni_traj.atoms"
   ]
  },
  {
   "cell_type": "code",
   "execution_count": 21,
   "id": "d54f0759",
   "metadata": {},
   "outputs": [
    {
     "data": {
      "text/plain": [
       "<ResidueGroup with 214 residues>"
      ]
     },
     "execution_count": 21,
     "metadata": {},
     "output_type": "execute_result"
    }
   ],
   "source": [
    "uni_traj.residues"
   ]
  },
  {
   "cell_type": "code",
   "execution_count": 22,
   "id": "a5ffcd7d",
   "metadata": {},
   "outputs": [
    {
     "data": {
      "text/plain": [
       "<SegmentGroup with 1 segment>"
      ]
     },
     "execution_count": 22,
     "metadata": {},
     "output_type": "execute_result"
    }
   ],
   "source": [
    "uni_traj.segments"
   ]
  },
  {
   "cell_type": "markdown",
   "id": "c4f80be0",
   "metadata": {},
   "source": [
    "These groups can be thought as list, so you can select using slicing"
   ]
  },
  {
   "cell_type": "code",
   "execution_count": 29,
   "id": "1d719e41",
   "metadata": {},
   "outputs": [
    {
     "name": "stdout",
     "output_type": "stream",
     "text": [
      "<AtomGroup [<Atom 3337: HA1 of type 6 of resname GLY, resid 214 and segid 4AKE>, <Atom 3338: HA2 of type 6 of resname GLY, resid 214 and segid 4AKE>, <Atom 3339: C of type 32 of resname GLY, resid 214 and segid 4AKE>, <Atom 3340: OT1 of type 72 of resname GLY, resid 214 and segid 4AKE>, <Atom 3341: OT2 of type 72 of resname GLY, resid 214 and segid 4AKE>]>\n",
      "atoms: ['HA1' 'HA2' 'C' 'OT1' 'OT2']\n",
      "residue of the atoms: ['GLY' 'GLY' 'GLY' 'GLY' 'GLY']\n",
      "segment id of the atoms: ['4AKE' '4AKE' '4AKE' '4AKE' '4AKE']\n"
     ]
    }
   ],
   "source": [
    "last_five_atoms = uni_traj.atoms[-5:]\n",
    "print(last_five_atoms)\n",
    "print(\"atoms:\", last_five_atoms.names)\n",
    "print(\"residue of the atoms:\", last_five_atoms.resnames)\n",
    "print(\"segment id of the atoms:\", last_five_atoms.segids)"
   ]
  },
  {
   "cell_type": "markdown",
   "id": "ddd6e19e",
   "metadata": {},
   "source": [
    "it also has a powerful atom selection language. This is available with the `.select_atoms()` method of `AtomGroup` or `Universe` instance"
   ]
  },
  {
   "cell_type": "code",
   "execution_count": 36,
   "id": "3870bc5c",
   "metadata": {},
   "outputs": [
    {
     "name": "stdout",
     "output_type": "stream",
     "text": [
      "<AtomGroup [<Atom 318: N of type 54 of resname GLU, resid 22 and segid 4AKE>, <Atom 319: HN of type 1 of resname GLU, resid 22 and segid 4AKE>, <Atom 320: CA of type 22 of resname GLU, resid 22 and segid 4AKE>, ..., <Atom 3271: OE2 of type 72 of resname GLU, resid 210 and segid 4AKE>, <Atom 3272: C of type 20 of resname GLU, resid 210 and segid 4AKE>, <Atom 3273: O of type 70 of resname GLU, resid 210 and segid 4AKE>]>\n",
      "['GLU' 'GLU' 'GLU' 'GLU' 'GLU' 'GLU' 'GLU' 'GLU' 'GLU' 'GLU' 'GLU' 'GLU'\n",
      " 'GLU' 'GLU' 'GLU' 'ASP' 'ASP' 'ASP' 'ASP' 'ASP' 'ASP' 'ASP' 'ASP' 'ASP'\n",
      " 'ASP' 'ASP' 'ASP' 'GLU' 'GLU' 'GLU' 'GLU' 'GLU' 'GLU' 'GLU' 'GLU' 'GLU'\n",
      " 'GLU' 'GLU' 'GLU' 'GLU' 'GLU' 'GLU' 'ASP' 'ASP' 'ASP' 'ASP' 'ASP' 'ASP'\n",
      " 'ASP' 'ASP']\n"
     ]
    }
   ],
   "source": [
    "print(uni_traj.select_atoms(\"resname ASP or resname GLU\"))\n",
    "print(uni_traj.select_atoms(\"resname ASP or resname GLU\").resnames[:50]) #first 50"
   ]
  },
  {
   "cell_type": "code",
   "execution_count": 38,
   "id": "8b8afc1a",
   "metadata": {},
   "outputs": [
    {
     "name": "stdout",
     "output_type": "stream",
     "text": [
      "51\n",
      "50\n"
     ]
    }
   ],
   "source": [
    "print(uni_traj.select_atoms(\"resid 50-100\").n_residues) # prints number of residues using .n_residues\n",
    "print(uni_traj.residues[50:100].n_residues) # this does not include last residue"
   ]
  },
  {
   "cell_type": "code",
   "execution_count": 40,
   "id": "745f0352",
   "metadata": {},
   "outputs": [
    {
     "data": {
      "text/plain": [
       "<AtomGroup with 6 atoms>"
      ]
     },
     "execution_count": 40,
     "metadata": {},
     "output_type": "execute_result"
    }
   ],
   "source": [
    "#Glutamic acid is typically named “GLU”, but histidine can be named “HIS”, “HSD”, or “HSE” depending on its protonation state and the force field used.\n",
    "uni_traj.select_atoms(\"(resname GLU or resname HS*) and name CA and (resid 1:100)\")\n"
   ]
  },
  {
   "cell_type": "markdown",
   "id": "59da6d2e",
   "metadata": {},
   "source": [
    "## Note:\n",
    "\n",
    "An `AtomGroup` created from a selection is sorted and duplicate elements are removed. This is not true for an `AtomGroup` produced by slicing. Thus, slicing can be used when the order of atoms is crucial."
   ]
  },
  {
   "cell_type": "markdown",
   "id": "7c5725c2",
   "metadata": {},
   "source": [
    "# Getting atom information from AtomGroups"
   ]
  },
  {
   "cell_type": "code",
   "execution_count": 41,
   "id": "f4e87757",
   "metadata": {},
   "outputs": [
    {
     "name": "stdout",
     "output_type": "stream",
     "text": [
      "['N' 'HT1' 'HT2' 'HT3' 'CA' 'HA' 'CB' 'HB1' 'HB2' 'CG' 'HG1' 'HG2' 'SD'\n",
      " 'CE' 'HE1' 'HE2' 'HE3' 'C' 'O' 'N']\n"
     ]
    }
   ],
   "source": [
    "print(uni_traj.atoms[:20].names)"
   ]
  },
  {
   "cell_type": "code",
   "execution_count": 42,
   "id": "54e43ab8",
   "metadata": {},
   "outputs": [
    {
     "name": "stdout",
     "output_type": "stream",
     "text": [
      "[14.007  1.008  1.008  1.008 12.011  1.008 12.011  1.008  1.008 12.011\n",
      "  1.008  1.008 32.06  12.011  1.008  1.008  1.008 12.011 15.999 14.007]\n"
     ]
    }
   ],
   "source": [
    "print(uni_traj.atoms[:20].masses)\n"
   ]
  },
  {
   "cell_type": "code",
   "execution_count": 43,
   "id": "d974d461",
   "metadata": {},
   "outputs": [
    {
     "name": "stdout",
     "output_type": "stream",
     "text": [
      "<ResidueGroup [<Residue MET, 1>, <Residue ARG, 2>]>\n",
      "<SegmentGroup [<Segment 4AKE>]>\n"
     ]
    }
   ],
   "source": [
    "print(uni_traj.atoms[:20].residues)\n",
    "print(uni_traj.atoms[:20].segments)"
   ]
  },
  {
   "cell_type": "markdown",
   "id": "8cc9291a",
   "metadata": {},
   "source": [
    "See we do not have dupilcates in residues, if i want to know residue atom wise I can access them using `.resnames`"
   ]
  },
  {
   "cell_type": "code",
   "execution_count": 44,
   "id": "5cf9c3bf",
   "metadata": {},
   "outputs": [
    {
     "name": "stdout",
     "output_type": "stream",
     "text": [
      "['MET' 'MET' 'MET' 'MET' 'MET' 'MET' 'MET' 'MET' 'MET' 'MET' 'MET' 'MET'\n",
      " 'MET' 'MET' 'MET' 'MET' 'MET' 'MET' 'MET' 'ARG']\n"
     ]
    }
   ],
   "source": [
    "print(uni_traj.atoms[:20].resnames)"
   ]
  },
  {
   "cell_type": "code",
   "execution_count": 47,
   "id": "5c4ca930",
   "metadata": {},
   "outputs": [
    {
     "data": {
      "text/plain": [
       "[('ALA', 'C'),\n",
       " ('ALA', 'HN'),\n",
       " ('ARG', 'N'),\n",
       " ('ASN', 'O'),\n",
       " ('ASP', 'C'),\n",
       " ('ASP', 'N'),\n",
       " ('GLN', 'C'),\n",
       " ('GLU', 'N'),\n",
       " ('ILE', 'C'),\n",
       " ('LEU', 'N'),\n",
       " ('LYS', 'N'),\n",
       " ('THR', 'N')]"
      ]
     },
     "execution_count": 47,
     "metadata": {},
     "output_type": "execute_result"
    }
   ],
   "source": [
    "near_met = uni_traj.select_atoms(\"not resname MET and (around 2 resname MET)\")\n",
    "sorted(near_met.groupby(['resnames', 'names']))"
   ]
  },
  {
   "cell_type": "markdown",
   "id": "512ac1a3",
   "metadata": {},
   "source": [
    "# AtomGroup positions and methods"
   ]
  },
  {
   "cell_type": "code",
   "execution_count": 50,
   "id": "531068e5",
   "metadata": {},
   "outputs": [
    {
     "name": "stdout",
     "output_type": "stream",
     "text": [
      "[[11.664622    8.393473   -8.983231  ]\n",
      " [11.414839    5.4344215  -6.5134845 ]\n",
      " [ 8.959755    5.612923   -3.6132305 ]\n",
      " [ 8.290068    3.075991   -0.79665166]\n",
      " [ 5.011126    3.7638984   1.130355  ]]\n",
      "<class 'numpy.ndarray'>\n",
      "(5, 3)\n"
     ]
    }
   ],
   "source": [
    "ca = uni_traj.select_atoms(\"resid 1-5 and name CA\")\n",
    "print(ca.positions)\n",
    "print(type(ca.positions))\n",
    "print(ca.positions.shape)"
   ]
  },
  {
   "cell_type": "code",
   "execution_count": 52,
   "id": "56f5bd31",
   "metadata": {},
   "outputs": [
    {
     "name": "stdout",
     "output_type": "stream",
     "text": [
      "[ 9.06808195  5.25614133 -3.75524844]\n"
     ]
    }
   ],
   "source": [
    "print(ca.center_of_mass())"
   ]
  },
  {
   "cell_type": "code",
   "execution_count": null,
   "id": "d04b9be1",
   "metadata": {},
   "outputs": [],
   "source": []
  }
 ],
 "metadata": {
  "kernelspec": {
   "display_name": "MDAnalysis",
   "language": "python",
   "name": "python3"
  },
  "language_info": {
   "codemirror_mode": {
    "name": "ipython",
    "version": 3
   },
   "file_extension": ".py",
   "mimetype": "text/x-python",
   "name": "python",
   "nbconvert_exporter": "python",
   "pygments_lexer": "ipython3",
   "version": "3.13.2"
  }
 },
 "nbformat": 4,
 "nbformat_minor": 5
}

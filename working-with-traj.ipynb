{
 "cells": [
  {
   "cell_type": "markdown",
   "id": "7e074189",
   "metadata": {},
   "source": [
    "# Working with Trajectories"
   ]
  },
  {
   "cell_type": "code",
   "execution_count": 1,
   "id": "a90cd79e",
   "metadata": {},
   "outputs": [],
   "source": [
    "import MDAnalysis as mda\n",
    "from MDAnalysis.tests.datafiles import PSF, DCD\n",
    "import pandas as pd\n",
    "import matplotlib.pyplot as plt"
   ]
  },
  {
   "cell_type": "code",
   "execution_count": 2,
   "id": "5823feaf",
   "metadata": {},
   "outputs": [],
   "source": [
    "universe = mda.Universe(PSF, DCD)"
   ]
  },
  {
   "cell_type": "code",
   "execution_count": 3,
   "id": "c510bfef",
   "metadata": {},
   "outputs": [
    {
     "data": {
      "text/plain": [
       "98"
      ]
     },
     "execution_count": 3,
     "metadata": {},
     "output_type": "execute_result"
    }
   ],
   "source": [
    "len(universe.trajectory)"
   ]
  },
  {
   "cell_type": "code",
   "execution_count": 4,
   "id": "0990be20",
   "metadata": {},
   "outputs": [
    {
     "name": "stdout",
     "output_type": "stream",
     "text": [
      "Frame:   0, Time:    1 ps, Rgyr: 16.6690 A\n",
      "Frame:   1, Time:    2 ps, Rgyr: 16.6732 A\n",
      "Frame:   2, Time:    3 ps, Rgyr: 16.7315 A\n",
      "Frame:   3, Time:    4 ps, Rgyr: 16.7223 A\n",
      "Frame:   4, Time:    5 ps, Rgyr: 16.7440 A\n",
      "Frame:   5, Time:    6 ps, Rgyr: 16.7185 A\n",
      "Frame:   6, Time:    7 ps, Rgyr: 16.7741 A\n",
      "Frame:   7, Time:    8 ps, Rgyr: 16.7764 A\n",
      "Frame:   8, Time:    9 ps, Rgyr: 16.7894 A\n",
      "Frame:   9, Time:   10 ps, Rgyr: 16.8289 A\n",
      "Frame:  10, Time:   11 ps, Rgyr: 16.8521 A\n",
      "Frame:  11, Time:   12 ps, Rgyr: 16.8549 A\n",
      "Frame:  12, Time:   13 ps, Rgyr: 16.8723 A\n",
      "Frame:  13, Time:   14 ps, Rgyr: 16.9108 A\n",
      "Frame:  14, Time:   15 ps, Rgyr: 16.9494 A\n",
      "Frame:  15, Time:   16 ps, Rgyr: 16.9810 A\n",
      "Frame:  16, Time:   17 ps, Rgyr: 17.0033 A\n",
      "Frame:  17, Time:   18 ps, Rgyr: 17.0196 A\n",
      "Frame:  18, Time:   19 ps, Rgyr: 17.0784 A\n",
      "Frame:  19, Time:   20 ps, Rgyr: 17.1265 A\n"
     ]
    }
   ],
   "source": [
    "for ts in universe.trajectory[:20]:\n",
    "    time = universe.trajectory.time\n",
    "    rgyr = universe.atoms.radius_of_gyration()\n",
    "    print(f\"Frame: {ts.frame:3d}, Time: {time:4.0f} ps, Rgyr: {rgyr:.4f} A\") "
   ]
  },
  {
   "cell_type": "code",
   "execution_count": 5,
   "id": "66e3718f",
   "metadata": {},
   "outputs": [],
   "source": [
    "rgyr = []\n",
    "time = []\n",
    "\n",
    "for ts in universe.trajectory:\n",
    "    time.append(universe.trajectory.time)\n",
    "    rgyr.append(universe.atoms.radius_of_gyration())\n"
   ]
  },
  {
   "cell_type": "code",
   "execution_count": 6,
   "id": "76385c7d",
   "metadata": {},
   "outputs": [
    {
     "data": {
      "text/html": [
       "<div>\n",
       "<style scoped>\n",
       "    .dataframe tbody tr th:only-of-type {\n",
       "        vertical-align: middle;\n",
       "    }\n",
       "\n",
       "    .dataframe tbody tr th {\n",
       "        vertical-align: top;\n",
       "    }\n",
       "\n",
       "    .dataframe thead th {\n",
       "        text-align: right;\n",
       "    }\n",
       "</style>\n",
       "<table border=\"1\" class=\"dataframe\">\n",
       "  <thead>\n",
       "    <tr style=\"text-align: right;\">\n",
       "      <th></th>\n",
       "      <th>Radius of Gyration (A)</th>\n",
       "    </tr>\n",
       "    <tr>\n",
       "      <th>Time (ps)</th>\n",
       "      <th></th>\n",
       "    </tr>\n",
       "  </thead>\n",
       "  <tbody>\n",
       "    <tr>\n",
       "      <th>1.0</th>\n",
       "      <td>16.669018</td>\n",
       "    </tr>\n",
       "    <tr>\n",
       "      <th>2.0</th>\n",
       "      <td>16.673217</td>\n",
       "    </tr>\n",
       "    <tr>\n",
       "      <th>3.0</th>\n",
       "      <td>16.731454</td>\n",
       "    </tr>\n",
       "    <tr>\n",
       "      <th>4.0</th>\n",
       "      <td>16.722283</td>\n",
       "    </tr>\n",
       "    <tr>\n",
       "      <th>5.0</th>\n",
       "      <td>16.743961</td>\n",
       "    </tr>\n",
       "  </tbody>\n",
       "</table>\n",
       "</div>"
      ],
      "text/plain": [
       "           Radius of Gyration (A)\n",
       "Time (ps)                        \n",
       "1.0                     16.669018\n",
       "2.0                     16.673217\n",
       "3.0                     16.731454\n",
       "4.0                     16.722283\n",
       "5.0                     16.743961"
      ]
     },
     "execution_count": 6,
     "metadata": {},
     "output_type": "execute_result"
    }
   ],
   "source": [
    "rgyr_df = pd.DataFrame(rgyr, columns=[\"Radius of Gyration (A)\"], index=time)\n",
    "rgyr_df.index.name = \"Time (ps)\"\n",
    "\n",
    "rgyr_df.head()"
   ]
  },
  {
   "cell_type": "code",
   "execution_count": 7,
   "id": "8a69f02d",
   "metadata": {},
   "outputs": [
    {
     "data": {
      "image/png": "[encoded data removed]",
      "text/plain": [
       "<Figure size 640x480 with 1 Axes>"
      ]
     },
     "metadata": {},
     "output_type": "display_data"
    }
   ],
   "source": [
    "rgyr_df.plot(title=\"Radius of Gyration\")\n",
    "plt.show()"
   ]
  },
  {
   "cell_type": "code",
   "execution_count": null,
   "id": "e7630ee5",
   "metadata": {},
   "outputs": [],
   "source": []
  }
 ],
 "metadata": {
  "kernelspec": {
   "display_name": "MDAnalysis",
   "language": "python",
   "name": "python3"
  },
  "language_info": {
   "codemirror_mode": {
    "name": "ipython",
    "version": 3
   },
   "file_extension": ".py",
   "mimetype": "text/x-python",
   "name": "python",
   "nbconvert_exporter": "python",
   "pygments_lexer": "ipython3",
   "version": "3.13.2"
  }
 },
 "nbformat": 4,
 "nbformat_minor": 5
}

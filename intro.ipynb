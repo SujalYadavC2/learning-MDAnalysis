{
 "cells": [
  {
   "cell_type": "code",
   "execution_count": 1,
   "id": "6f38b8ba",
   "metadata": {},
   "outputs": [],
   "source": [
    "import MDAnalysis as mda"
   ]
  },
  {
   "cell_type": "markdown",
   "id": "8881a7ff",
   "metadata": {},
   "source": [
    "# Create Universe\n",
    "\n",
    "To create our universe we need to provide topology file. trajectory file is optional."
   ]
  },
  {
   "cell_type": "code",
   "execution_count": 2,
   "id": "c9a28878",
   "metadata": {},
   "outputs": [
    {
     "name": "stdout",
     "output_type": "stream",
     "text": [
      "<Universe with 131 atoms>\n"
     ]
    },
    {
     "name": "stderr",
     "output_type": "stream",
     "text": [
      "/home/sujaly/anaconda3/envs/calvados/lib/python3.10/site-packages/MDAnalysis/coordinates/DCD.py:165: DeprecationWarning: DCDReader currently makes independent timesteps by copying self.ts while other readers update self.ts inplace. This behavior will be changed in 3.0 to be the same as other readers. Read more at https://github.com/MDAnalysis/mdanalysis/issues/3889 to learn if this change in behavior might affect you.\n",
      "  warnings.warn(\"DCDReader currently makes independent timesteps\"\n"
     ]
    }
   ],
   "source": [
    "universe = mda.Universe(\"top.pdb\", \"A1SLCD.dcd\")\n",
    "print(universe)"
   ]
  },
  {
   "cell_type": "code",
   "execution_count": 3,
   "id": "5a9014b9",
   "metadata": {},
   "outputs": [
    {
     "name": "stdout",
     "output_type": "stream",
     "text": [
      "<class 'MDAnalysis.core.groups.AtomGroup'>\n"
     ]
    },
    {
     "data": {
      "text/plain": [
       "array(['CA', 'CA', 'CA', 'CA', 'CA', 'CA', 'CA', 'CA', 'CA', 'CA', 'CA',\n",
       "       'CA', 'CA', 'CA', 'CA', 'CA', 'CA', 'CA', 'CA', 'CA', 'CA', 'CA',\n",
       "       'CA', 'CA', 'CA', 'CA', 'CA', 'CA', 'CA', 'CA', 'CA', 'CA', 'CA',\n",
       "       'CA', 'CA', 'CA', 'CA', 'CA', 'CA', 'CA', 'CA', 'CA', 'CA', 'CA',\n",
       "       'CA', 'CA', 'CA', 'CA', 'CA', 'CA', 'CA', 'CA', 'CA', 'CA', 'CA',\n",
       "       'CA', 'CA', 'CA', 'CA', 'CA', 'CA', 'CA', 'CA', 'CA', 'CA', 'CA',\n",
       "       'CA', 'CA', 'CA', 'CA', 'CA', 'CA', 'CA', 'CA', 'CA', 'CA', 'CA',\n",
       "       'CA', 'CA', 'CA', 'CA', 'CA', 'CA', 'CA', 'CA', 'CA', 'CA', 'CA',\n",
       "       'CA', 'CA', 'CA', 'CA', 'CA', 'CA', 'CA', 'CA', 'CA', 'CA', 'CA',\n",
       "       'CA', 'CA', 'CA', 'CA', 'CA', 'CA', 'CA', 'CA', 'CA', 'CA', 'CA',\n",
       "       'CA', 'CA', 'CA', 'CA', 'CA', 'CA', 'CA', 'CA', 'CA', 'CA', 'CA',\n",
       "       'CA', 'CA', 'CA', 'CA', 'CA', 'CA', 'CA', 'CA', 'CA', 'CA'],\n",
       "      dtype=object)"
      ]
     },
     "execution_count": 3,
     "metadata": {},
     "output_type": "execute_result"
    }
   ],
   "source": [
    "our_atoms = universe.atoms\n",
    "print(type(our_atoms))\n",
    "our_atoms.names # type: ignore"
   ]
  },
  {
   "cell_type": "code",
   "execution_count": 4,
   "id": "1f1d8981",
   "metadata": {},
   "outputs": [
    {
     "data": {
      "application/vnd.jupyter.widget-view+json": {
       "model_id": "ee08c862c0f44c43b2b280bde4b451d6",
       "version_major": 2,
       "version_minor": 0
      },
      "text/plain": []
     },
     "metadata": {},
     "output_type": "display_data"
    },
    {
     "data": {
      "application/vnd.jupyter.widget-view+json": {
       "model_id": "ac6af13de2e3411fa7a95a7ef1acadc5",
       "version_major": 2,
       "version_minor": 0
      },
      "text/plain": [
       "NGLWidget(max_frame=2019)"
      ]
     },
     "metadata": {},
     "output_type": "display_data"
    }
   ],
   "source": [
    "import nglview as nv\n",
    "\n",
    "view_universe = nv.show_mdanalysis(universe)\n",
    "\n",
    "view_universe"
   ]
  },
  {
   "cell_type": "code",
   "execution_count": 6,
   "id": "444397db",
   "metadata": {},
   "outputs": [
    {
     "name": "stdout",
     "output_type": "stream",
     "text": [
      "['CA' 'CA' 'CA' 'CA' 'CA' 'CA' 'CA' 'CA' 'CA' 'CA' 'CA' 'CA' 'CA' 'CA'\n",
      " 'CA' 'CA' 'CA' 'CA' 'CA' 'CA']\n"
     ]
    }
   ],
   "source": [
    "#first 20 atoms\n",
    "\n",
    "first_twenty = universe.atoms[0:20]\n",
    "print(first_twenty.names)"
   ]
  },
  {
   "cell_type": "code",
   "execution_count": 9,
   "id": "7b63f323",
   "metadata": {},
   "outputs": [
    {
     "data": {
      "application/vnd.jupyter.widget-view+json": {
       "model_id": "083ffdc58d5d49c2bf41a2fcb392e310",
       "version_major": 2,
       "version_minor": 0
      },
      "text/plain": [
       "NGLWidget(max_frame=2019)"
      ]
     },
     "metadata": {},
     "output_type": "display_data"
    }
   ],
   "source": [
    "view_first_twenty = nv.show_mdanalysis(first_twenty)\n",
    "view_first_twenty"
   ]
  },
  {
   "cell_type": "code",
   "execution_count": 10,
   "id": "42d11aa6",
   "metadata": {},
   "outputs": [
    {
     "data": {
      "application/vnd.jupyter.widget-view+json": {
       "model_id": "692448ecfcb8476ba11ae15db99975ef",
       "version_major": 2,
       "version_minor": 0
      },
      "text/plain": [
       "NGLWidget(max_frame=2019)"
      ]
     },
     "metadata": {},
     "output_type": "display_data"
    }
   ],
   "source": [
    "protein = universe.select_atoms('protein')\n",
    "view_protein = nv.show_mdanalysis(protein)\n",
    "view_protein"
   ]
  },
  {
   "cell_type": "code",
   "execution_count": 11,
   "id": "215346ba",
   "metadata": {},
   "outputs": [
    {
     "data": {
      "text/plain": [
       "array([[240.02563, 238.73515, 242.53734],\n",
       "       [238.1436 , 236.04578, 244.43999],\n",
       "       [238.38557, 235.66667, 248.24374],\n",
       "       [238.64656, 237.57379, 251.49   ],\n",
       "       [239.36119, 237.24513, 255.20946],\n",
       "       [238.65804, 238.8261 , 258.5954 ],\n",
       "       [237.98051, 242.57845, 258.51224],\n",
       "       [238.9792 , 242.92978, 254.91025],\n",
       "       [238.41782, 243.26852, 251.12755],\n",
       "       [238.79582, 242.03383, 247.55775],\n",
       "       [235.4974 , 241.61647, 245.68741],\n",
       "       [236.91455, 242.64851, 242.30132],\n",
       "       [238.3638 , 245.92361, 241.05406],\n",
       "       [237.46675, 247.59512, 244.33395],\n",
       "       [236.25414, 247.22818, 247.88376],\n",
       "       [235.3065 , 248.22824, 251.41948],\n",
       "       [237.46535, 247.72995, 254.51418],\n",
       "       [236.94382, 248.52263, 258.1995 ],\n",
       "       [235.4027 , 251.95644, 257.8398 ],\n",
       "       [236.33014, 252.45726, 254.21927],\n",
       "       [238.95363, 252.33116, 251.49188],\n",
       "       [238.00487, 252.03152, 247.80139],\n",
       "       [234.85901, 252.90721, 245.82239],\n",
       "       [236.53215, 253.28925, 242.43002],\n",
       "       [237.79424, 256.8544 , 242.0764 ],\n",
       "       [239.65143, 257.99292, 245.18265],\n",
       "       [238.05319, 257.9867 , 248.60825],\n",
       "       [237.36087, 256.90234, 252.20424],\n",
       "       [239.18427, 256.19305, 255.47865],\n",
       "       [238.39624, 257.4218 , 258.99988],\n",
       "       [237.2012 , 260.9177 , 258.21152],\n",
       "       [238.37082, 261.8323 , 254.73418],\n",
       "       [236.40541, 263.809  , 252.14305],\n",
       "       [236.00496, 263.53842, 248.36792],\n",
       "       [236.3504 , 263.43387, 244.60143],\n",
       "       [238.41159, 261.57748, 242.00102],\n",
       "       [242.19711, 261.41772, 241.60236],\n",
       "       [243.01619, 263.42804, 244.67108],\n",
       "       [243.13448, 262.73645, 248.37479],\n",
       "       [243.25327, 263.32123, 252.10837],\n",
       "       [244.50037, 261.57993, 255.22781],\n",
       "       [243.73607, 261.7521 , 258.9473 ],\n",
       "       [243.98775, 257.9867 , 258.9008 ],\n",
       "       [244.28699, 256.5743 , 255.41986],\n",
       "       [243.54123, 256.90717, 251.71698],\n",
       "       [243.94359, 256.8407 , 247.95221],\n",
       "       [244.31436, 258.08017, 244.38309],\n",
       "       [243.59828, 256.51993, 240.99615],\n",
       "       [242.3555 , 252.97131, 241.3776 ],\n",
       "       [241.98355, 253.40381, 245.10081],\n",
       "       [243.22722, 252.0717 , 248.39452],\n",
       "       [244.88948, 251.4616 , 251.74759],\n",
       "       [242.53462, 252.05438, 254.65192],\n",
       "       [242.56143, 251.98337, 258.44745],\n",
       "       [244.00572, 248.47704, 258.29364],\n",
       "       [243.9457 , 247.32431, 254.67209],\n",
       "       [241.6507 , 247.6771 , 251.67552],\n",
       "       [241.10776, 247.33391, 247.97717],\n",
       "       [243.24802, 247.91609, 244.93263],\n",
       "       [244.6523 , 246.69678, 241.61037],\n",
       "       [244.63066, 242.96696, 240.8339 ],\n",
       "       [244.62744, 241.69373, 244.40015],\n",
       "       [244.25772, 243.53319, 247.68442],\n",
       "       [244.6557 , 242.35442, 251.2804 ],\n",
       "       [244.65591, 242.70029, 255.06934],\n",
       "       [244.42285, 242.64389, 258.82977],\n",
       "       [244.47382, 238.85251, 258.92532],\n",
       "       [244.53827, 237.8533 , 255.26816],\n",
       "       [243.99031, 236.1955 , 251.93628],\n",
       "       [244.66019, 236.842  , 248.23926],\n",
       "       [244.30222, 234.93314, 245.0104 ],\n",
       "       [244.98727, 236.74371, 241.75406],\n",
       "       [248.39244, 238.43153, 241.9543 ],\n",
       "       [249.96217, 236.35625, 244.70499],\n",
       "       [250.4411 , 236.01398, 248.47122],\n",
       "       [249.84705, 235.2776 , 252.17712],\n",
       "       [249.87631, 235.16429, 255.96951],\n",
       "       [250.48492, 237.448  , 258.95026],\n",
       "       [250.50893, 241.19305, 258.35284],\n",
       "       [250.3882 , 241.68633, 254.60912],\n",
       "       [251.04424, 241.16461, 250.90598],\n",
       "       [250.88945, 241.17535, 247.1242 ],\n",
       "       [252.66406, 241.26718, 243.77818],\n",
       "       [252.14667, 243.1278 , 240.51405],\n",
       "       [250.06355, 246.25923, 241.24577],\n",
       "       [249.01181, 246.03244, 244.89467],\n",
       "       [248.60176, 247.06519, 248.48015],\n",
       "       [249.16823, 247.5813 , 252.19525],\n",
       "       [248.78876, 246.88927, 255.88156],\n",
       "       [248.79425, 248.26967, 259.4326 ],\n",
       "       [250.24985, 251.76677, 259.05597],\n",
       "       [248.73442, 253.02733, 255.84369],\n",
       "       [249.60638, 253.61328, 252.20639],\n",
       "       [248.0976 , 253.41672, 248.7418 ],\n",
       "       [248.45274, 252.72665, 245.0366 ],\n",
       "       [249.06862, 253.93323, 241.48846],\n",
       "       [249.22551, 257.49725, 240.17151],\n",
       "       [248.93619, 258.797  , 243.70619],\n",
       "       [249.15703, 258.69104, 247.48225],\n",
       "       [249.52092, 259.3433 , 251.22005],\n",
       "       [248.75468, 258.91174, 254.90288],\n",
       "       [248.78601, 258.30222, 258.63785],\n",
       "       [250.12883, 261.81656, 258.3724 ],\n",
       "       [248.73114, 263.88513, 255.53304],\n",
       "       [249.02441, 265.89255, 252.32773],\n",
       "       [249.79301, 265.63147, 248.62936],\n",
       "       [249.45161, 264.5774 , 245.00438],\n",
       "       [250.59087, 263.05078, 241.70445],\n",
       "       [254.13403, 261.89868, 240.9468 ],\n",
       "       [255.6956 , 261.893  , 244.42053],\n",
       "       [255.9132 , 261.61423, 248.21404],\n",
       "       [255.26573, 262.52628, 251.85449],\n",
       "       [254.75099, 263.53912, 255.49306],\n",
       "       [255.11378, 261.50623, 258.67383],\n",
       "       [253.55328, 258.03543, 258.56366],\n",
       "       [254.33658, 256.64203, 255.12642],\n",
       "       [255.75908, 256.15588, 251.64119],\n",
       "       [253.69011, 256.0936 , 248.44589],\n",
       "       [253.63948, 256.47223, 244.65009],\n",
       "       [254.66066, 255.08049, 241.26155],\n",
       "       [254.56972, 251.40686, 242.19147],\n",
       "       [255.49701, 251.50009, 245.87704],\n",
       "       [253.12747, 251.00143, 248.80031],\n",
       "       [254.40166, 250.84659, 252.38068],\n",
       "       [257.56204, 250.70035, 254.49686],\n",
       "       [255.29398, 250.30244, 257.48666],\n",
       "       [253.84515, 246.98042, 258.52798],\n",
       "       [254.10149, 246.04172, 254.89705],\n",
       "       [256.27963, 244.28603, 252.32733],\n",
       "       [255.63399, 245.39433, 248.76236],\n",
       "       [257.40903, 245.45439, 245.39352]], dtype=float32)"
      ]
     },
     "execution_count": 11,
     "metadata": {},
     "output_type": "execute_result"
    }
   ],
   "source": [
    "pos = our_atoms.positions\n",
    "pos"
   ]
  },
  {
   "cell_type": "markdown",
   "id": "4241722b",
   "metadata": {},
   "source": [
    "# Built-in Analyses"
   ]
  },
  {
   "cell_type": "code",
   "execution_count": 13,
   "id": "60a969a4",
   "metadata": {},
   "outputs": [],
   "source": [
    "from MDAnalysis.analysis.rms import RMSD\n",
    "import matplotlib.pyplot as plt"
   ]
  },
  {
   "cell_type": "code",
   "execution_count": 15,
   "id": "d2f855b1",
   "metadata": {},
   "outputs": [
    {
     "data": {
      "text/plain": [
       "<MDAnalysis.analysis.rms.RMSD at 0x73425512dd80>"
      ]
     },
     "execution_count": 15,
     "metadata": {},
     "output_type": "execute_result"
    }
   ],
   "source": [
    "c_alphas = universe.select_atoms('name CA')\n",
    "\n",
    "rmsd_cal = RMSD(c_alphas, c_alphas)\n",
    "rmsd_cal.run()"
   ]
  },
  {
   "cell_type": "code",
   "execution_count": 17,
   "id": "2b7b4a99",
   "metadata": {},
   "outputs": [
    {
     "data": {
      "image/png": "[encoded data removed]",
      "text/plain": [
       "<Figure size 640x480 with 1 Axes>"
      ]
     },
     "metadata": {},
     "output_type": "display_data"
    }
   ],
   "source": [
    "plt.plot(rmsd_cal.results.rmsd.T[0], rmsd_cal.results.rmsd.T[2])\n",
    "plt.xlabel('frame')\n",
    "plt.ylabel('RMSD - A')\n",
    "plt.show()"
   ]
  },
  {
   "cell_type": "code",
   "execution_count": null,
   "id": "bcfceb05",
   "metadata": {},
   "outputs": [],
   "source": []
  }
 ],
 "metadata": {
  "kernelspec": {
   "display_name": "calvados",
   "language": "python",
   "name": "python3"
  },
  "language_info": {
   "codemirror_mode": {
    "name": "ipython",
    "version": 3
   },
   "file_extension": ".py",
   "mimetype": "text/x-python",
   "name": "python",
   "nbconvert_exporter": "python",
   "pygments_lexer": "ipython3",
   "version": "3.10.16"
  }
 },
 "nbformat": 4,
 "nbformat_minor": 5
}

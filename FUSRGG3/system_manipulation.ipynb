{
 "cells": [
  {
   "cell_type": "code",
   "execution_count": 2,
   "id": "8ea1af69",
   "metadata": {},
   "outputs": [],
   "source": [
    "import MDAnalysis as mda"
   ]
  },
  {
   "cell_type": "code",
   "execution_count": 3,
   "id": "a44c85eb",
   "metadata": {},
   "outputs": [
    {
     "name": "stdout",
     "output_type": "stream",
     "text": [
      "<Universe with 34 atoms>\n"
     ]
    },
    {
     "name": "stderr",
     "output_type": "stream",
     "text": [
      "/home/sujaly/anaconda3/envs/calvados/lib/python3.10/site-packages/MDAnalysis/coordinates/DCD.py:165: DeprecationWarning: DCDReader currently makes independent timesteps by copying self.ts while other readers update self.ts inplace. This behavior will be changed in 3.0 to be the same as other readers. Read more at https://github.com/MDAnalysis/mdanalysis/issues/3889 to learn if this change in behavior might affect you.\n",
      "  warnings.warn(\"DCDReader currently makes independent timesteps\"\n"
     ]
    }
   ],
   "source": [
    "universe = mda.Universe('top.pdb', 'FUSRGG3.dcd')\n",
    "\n",
    "print(universe)"
   ]
  },
  {
   "cell_type": "code",
   "execution_count": 5,
   "id": "bfc51a8f",
   "metadata": {},
   "outputs": [
    {
     "data": {
      "text/plain": [
       "MDAnalysis.core.groups.AtomGroup"
      ]
     },
     "execution_count": 5,
     "metadata": {},
     "output_type": "execute_result"
    }
   ],
   "source": [
    "our_atoms = universe.atoms\n",
    "type(our_atoms)"
   ]
  },
  {
   "cell_type": "code",
   "execution_count": 6,
   "id": "97820da1",
   "metadata": {},
   "outputs": [
    {
     "data": {
      "text/plain": [
       "array(['CA', 'CA', 'CA', 'CA', 'CA', 'CA', 'CA', 'CA', 'CA', 'CA', 'CA',\n",
       "       'CA', 'CA', 'CA', 'CA', 'CA', 'CA', 'CA', 'CA', 'CA', 'CA', 'CA',\n",
       "       'CA', 'CA', 'CA', 'CA', 'CA', 'CA', 'CA', 'CA', 'CA', 'CA', 'CA',\n",
       "       'CA'], dtype=object)"
      ]
     },
     "execution_count": 6,
     "metadata": {},
     "output_type": "execute_result"
    }
   ],
   "source": [
    "our_atoms.names"
   ]
  },
  {
   "cell_type": "code",
   "execution_count": 7,
   "id": "7a02a1c6",
   "metadata": {},
   "outputs": [
    {
     "data": {
      "text/plain": [
       "array(['ARG', 'ARG', 'GLY', 'GLY', 'ARG', 'GLY', 'GLY', 'TYR', 'ASP',\n",
       "       'ARG', 'GLY', 'GLY', 'TYR', 'ARG', 'GLY', 'ARG', 'GLY', 'GLY',\n",
       "       'ASP', 'ARG', 'GLY', 'GLY', 'PHE', 'ARG', 'GLY', 'GLY', 'ARG',\n",
       "       'GLY', 'GLY', 'GLY', 'ASP', 'ARG', 'GLY', 'CYS'], dtype=object)"
      ]
     },
     "execution_count": 7,
     "metadata": {},
     "output_type": "execute_result"
    }
   ],
   "source": [
    "our_atoms.resnames"
   ]
  },
  {
   "cell_type": "code",
   "execution_count": 8,
   "id": "eca62b2f",
   "metadata": {},
   "outputs": [
    {
     "data": {
      "text/plain": [
       "array([ 1,  2,  3,  4,  5,  6,  7,  8,  9, 10, 11, 12, 13, 14, 15, 16, 17,\n",
       "       18, 19, 20, 21, 22, 23, 24, 25, 26, 27, 28, 29, 30, 31, 32, 33, 34])"
      ]
     },
     "execution_count": 8,
     "metadata": {},
     "output_type": "execute_result"
    }
   ],
   "source": [
    "our_atoms.resids"
   ]
  },
  {
   "cell_type": "code",
   "execution_count": 10,
   "id": "7b79e74a",
   "metadata": {},
   "outputs": [
    {
     "data": {
      "text/plain": [
       "array([12.011, 12.011, 12.011, 12.011, 12.011, 12.011, 12.011, 12.011,\n",
       "       12.011, 12.011, 12.011, 12.011, 12.011, 12.011, 12.011, 12.011,\n",
       "       12.011, 12.011, 12.011, 12.011, 12.011, 12.011, 12.011, 12.011,\n",
       "       12.011, 12.011, 12.011, 12.011, 12.011, 12.011, 12.011, 12.011,\n",
       "       12.011, 12.011])"
      ]
     },
     "execution_count": 10,
     "metadata": {},
     "output_type": "execute_result"
    }
   ],
   "source": [
    "our_atoms.masses"
   ]
  },
  {
   "cell_type": "code",
   "execution_count": 11,
   "id": "34d73fc8",
   "metadata": {},
   "outputs": [
    {
     "data": {
      "text/plain": [
       "array(['C', 'C', 'C', 'C', 'C', 'C', 'C', 'C', 'C', 'C', 'C', 'C', 'C',\n",
       "       'C', 'C', 'C', 'C', 'C', 'C', 'C', 'C', 'C', 'C', 'C', 'C', 'C',\n",
       "       'C', 'C', 'C', 'C', 'C', 'C', 'C', 'C'], dtype=object)"
      ]
     },
     "execution_count": 11,
     "metadata": {},
     "output_type": "execute_result"
    }
   ],
   "source": [
    "our_atoms.types"
   ]
  },
  {
   "cell_type": "code",
   "execution_count": 12,
   "id": "4bf239de",
   "metadata": {},
   "outputs": [
    {
     "data": {
      "text/plain": [
       "34"
      ]
     },
     "execution_count": 12,
     "metadata": {},
     "output_type": "execute_result"
    }
   ],
   "source": [
    "our_atoms.n_atoms"
   ]
  },
  {
   "cell_type": "code",
   "execution_count": 13,
   "id": "c02e215b",
   "metadata": {},
   "outputs": [
    {
     "data": {
      "text/plain": [
       "34"
      ]
     },
     "execution_count": 13,
     "metadata": {},
     "output_type": "execute_result"
    }
   ],
   "source": [
    "len(our_atoms.names)"
   ]
  },
  {
   "cell_type": "code",
   "execution_count": 14,
   "id": "9486fada",
   "metadata": {},
   "outputs": [
    {
     "data": {
      "text/plain": [
       "<ResidueGroup with 34 residues>"
      ]
     },
     "execution_count": 14,
     "metadata": {},
     "output_type": "execute_result"
    }
   ],
   "source": [
    "universe.residues"
   ]
  },
  {
   "cell_type": "code",
   "execution_count": 15,
   "id": "eab46cba",
   "metadata": {},
   "outputs": [
    {
     "data": {
      "text/plain": [
       "<SegmentGroup with 1 segment>"
      ]
     },
     "execution_count": 15,
     "metadata": {},
     "output_type": "execute_result"
    }
   ],
   "source": [
    "universe.segments"
   ]
  },
  {
   "cell_type": "code",
   "execution_count": 16,
   "id": "3960f76c",
   "metadata": {},
   "outputs": [
    {
     "data": {
      "text/plain": [
       "array(['ARG', 'ARG', 'GLY', 'GLY', 'ARG', 'GLY', 'GLY', 'TYR', 'ASP',\n",
       "       'ARG', 'GLY', 'GLY', 'TYR', 'ARG', 'GLY', 'ARG', 'GLY', 'GLY',\n",
       "       'ASP', 'ARG', 'GLY', 'GLY', 'PHE', 'ARG', 'GLY', 'GLY', 'ARG',\n",
       "       'GLY', 'GLY', 'GLY', 'ASP', 'ARG', 'GLY', 'CYS'], dtype=object)"
      ]
     },
     "execution_count": 16,
     "metadata": {},
     "output_type": "execute_result"
    }
   ],
   "source": [
    "universe.residues.resnames"
   ]
  },
  {
   "cell_type": "code",
   "execution_count": 25,
   "id": "06dd33ac",
   "metadata": {},
   "outputs": [
    {
     "data": {
      "text/plain": [
       "<Residue ARG, 2>"
      ]
     },
     "execution_count": 25,
     "metadata": {},
     "output_type": "execute_result"
    }
   ],
   "source": [
    "universe.residues[1]"
   ]
  },
  {
   "cell_type": "code",
   "execution_count": 34,
   "id": "02301ad8",
   "metadata": {},
   "outputs": [
    {
     "name": "stdout",
     "output_type": "stream",
     "text": [
      "[False False  True  True False  True  True False False False  True  True\n",
      " False False  True False  True  True False False  True  True False False\n",
      "  True  True False  True  True  True False False  True False]\n"
     ]
    }
   ],
   "source": [
    "selection = universe.atoms.resnames == 'GLY'\n",
    "print(selection)"
   ]
  },
  {
   "cell_type": "code",
   "execution_count": 35,
   "id": "57e255ab",
   "metadata": {},
   "outputs": [
    {
     "data": {
      "text/plain": [
       "<AtomGroup with 17 atoms>"
      ]
     },
     "execution_count": 35,
     "metadata": {},
     "output_type": "execute_result"
    }
   ],
   "source": [
    "universe.atoms[selection]"
   ]
  },
  {
   "cell_type": "code",
   "execution_count": 36,
   "id": "5ea03182",
   "metadata": {},
   "outputs": [
    {
     "data": {
      "text/plain": [
       "<AtomGroup with 17 atoms>"
      ]
     },
     "execution_count": 36,
     "metadata": {},
     "output_type": "execute_result"
    }
   ],
   "source": [
    "glycines = universe.select_atoms(\"resname GLY\")\n",
    "glycines"
   ]
  },
  {
   "cell_type": "code",
   "execution_count": 37,
   "id": "92c8313a",
   "metadata": {},
   "outputs": [
    {
     "data": {
      "text/plain": [
       "<AtomGroup with 10 atoms>"
      ]
     },
     "execution_count": 37,
     "metadata": {},
     "output_type": "execute_result"
    }
   ],
   "source": [
    "first10resi = universe.select_atoms(\"resid 1-10\")\n",
    "first10resi"
   ]
  },
  {
   "cell_type": "code",
   "execution_count": null,
   "id": "9bc943d4",
   "metadata": {},
   "outputs": [],
   "source": []
  }
 ],
 "metadata": {
  "kernelspec": {
   "display_name": "calvados",
   "language": "python",
   "name": "python3"
  },
  "language_info": {
   "codemirror_mode": {
    "name": "ipython",
    "version": 3
   },
   "file_extension": ".py",
   "mimetype": "text/x-python",
   "name": "python",
   "nbconvert_exporter": "python",
   "pygments_lexer": "ipython3",
   "version": "3.10.16"
  }
 },
 "nbformat": 4,
 "nbformat_minor": 5
}
